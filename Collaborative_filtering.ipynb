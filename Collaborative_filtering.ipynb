{
  "nbformat": 4,
  "nbformat_minor": 0,
  "metadata": {
    "colab": {
      "name": "Collaborative-filtering.ipynb",
      "provenance": [],
      "collapsed_sections": [],
      "authorship_tag": "ABX9TyPQsGJfpZDa+lzejOhQWWck",
      "include_colab_link": true
    },
    "kernelspec": {
      "name": "python3",
      "display_name": "Python 3"
    }
  },
  "cells": [
    {
      "cell_type": "markdown",
      "metadata": {
        "id": "view-in-github",
        "colab_type": "text"
      },
      "source": [
        "<a href=\"https://colab.research.google.com/github/08mitesh/machine-learning-examples/blob/master/Collaborative_filtering.ipynb\" target=\"_parent\"><img src=\"https://colab.research.google.com/assets/colab-badge.svg\" alt=\"Open In Colab\"/></a>"
      ]
    },
    {
      "cell_type": "code",
      "metadata": {
        "id": "N3srQqSwGepL",
        "colab_type": "code",
        "colab": {}
      },
      "source": [
        "import pandas as pd\n",
        "from sklearn.metrics.pairwise import cosine_similarity"
      ],
      "execution_count": 3,
      "outputs": []
    },
    {
      "cell_type": "code",
      "metadata": {
        "id": "kH6PjvGVGtDt",
        "colab_type": "code",
        "colab": {
          "base_uri": "https://localhost:8080/",
          "height": 202
        },
        "outputId": "7bb86670-188e-41c1-cfad-9752808fc71b"
      },
      "source": [
        "ratings = pd.read_csv('toy_dataset.csv',index_col=0)\n",
        "ratings"
      ],
      "execution_count": 5,
      "outputs": [
        {
          "output_type": "execute_result",
          "data": {
            "text/html": [
              "<div>\n",
              "<style scoped>\n",
              "    .dataframe tbody tr th:only-of-type {\n",
              "        vertical-align: middle;\n",
              "    }\n",
              "\n",
              "    .dataframe tbody tr th {\n",
              "        vertical-align: top;\n",
              "    }\n",
              "\n",
              "    .dataframe thead th {\n",
              "        text-align: right;\n",
              "    }\n",
              "</style>\n",
              "<table border=\"1\" class=\"dataframe\">\n",
              "  <thead>\n",
              "    <tr style=\"text-align: right;\">\n",
              "      <th></th>\n",
              "      <th>action1</th>\n",
              "      <th>action2</th>\n",
              "      <th>action3</th>\n",
              "      <th>romantic1</th>\n",
              "      <th>romantic2</th>\n",
              "      <th>romantic3</th>\n",
              "    </tr>\n",
              "  </thead>\n",
              "  <tbody>\n",
              "    <tr>\n",
              "      <th>user 1</th>\n",
              "      <td>4.0</td>\n",
              "      <td>5.0</td>\n",
              "      <td>3.0</td>\n",
              "      <td>NaN</td>\n",
              "      <td>2.0</td>\n",
              "      <td>1.0</td>\n",
              "    </tr>\n",
              "    <tr>\n",
              "      <th>user 2</th>\n",
              "      <td>5.0</td>\n",
              "      <td>3.0</td>\n",
              "      <td>3.0</td>\n",
              "      <td>2.0</td>\n",
              "      <td>2.0</td>\n",
              "      <td>NaN</td>\n",
              "    </tr>\n",
              "    <tr>\n",
              "      <th>user 3</th>\n",
              "      <td>1.0</td>\n",
              "      <td>NaN</td>\n",
              "      <td>NaN</td>\n",
              "      <td>4.0</td>\n",
              "      <td>5.0</td>\n",
              "      <td>4.0</td>\n",
              "    </tr>\n",
              "    <tr>\n",
              "      <th>user 4</th>\n",
              "      <td>NaN</td>\n",
              "      <td>2.0</td>\n",
              "      <td>1.0</td>\n",
              "      <td>4.0</td>\n",
              "      <td>NaN</td>\n",
              "      <td>3.0</td>\n",
              "    </tr>\n",
              "    <tr>\n",
              "      <th>user 5</th>\n",
              "      <td>1.0</td>\n",
              "      <td>NaN</td>\n",
              "      <td>2.0</td>\n",
              "      <td>3.0</td>\n",
              "      <td>3.0</td>\n",
              "      <td>4.0</td>\n",
              "    </tr>\n",
              "  </tbody>\n",
              "</table>\n",
              "</div>"
            ],
            "text/plain": [
              "        action1  action2  action3  romantic1  romantic2  romantic3\n",
              "user 1      4.0      5.0      3.0        NaN        2.0        1.0\n",
              "user 2      5.0      3.0      3.0        2.0        2.0        NaN\n",
              "user 3      1.0      NaN      NaN        4.0        5.0        4.0\n",
              "user 4      NaN      2.0      1.0        4.0        NaN        3.0\n",
              "user 5      1.0      NaN      2.0        3.0        3.0        4.0"
            ]
          },
          "metadata": {
            "tags": []
          },
          "execution_count": 5
        }
      ]
    },
    {
      "cell_type": "code",
      "metadata": {
        "id": "Sc0XinvWH3sQ",
        "colab_type": "code",
        "colab": {
          "base_uri": "https://localhost:8080/",
          "height": 202
        },
        "outputId": "e2298a64-4a41-4677-95cc-ac460bae1b87"
      },
      "source": [
        "def standardize(row):\n",
        "  return (row-row.mean()) / (row.max()-row.min())\n",
        "\n",
        "# rating = df.apply(standardize).fillna('0')\n",
        "# rating\n",
        "\n",
        "# rating.T for item based similarity\n",
        "rating_std = ratings.apply(standardize).fillna('0')\n",
        "rating_std"
      ],
      "execution_count": 6,
      "outputs": [
        {
          "output_type": "execute_result",
          "data": {
            "text/html": [
              "<div>\n",
              "<style scoped>\n",
              "    .dataframe tbody tr th:only-of-type {\n",
              "        vertical-align: middle;\n",
              "    }\n",
              "\n",
              "    .dataframe tbody tr th {\n",
              "        vertical-align: top;\n",
              "    }\n",
              "\n",
              "    .dataframe thead th {\n",
              "        text-align: right;\n",
              "    }\n",
              "</style>\n",
              "<table border=\"1\" class=\"dataframe\">\n",
              "  <thead>\n",
              "    <tr style=\"text-align: right;\">\n",
              "      <th></th>\n",
              "      <th>action1</th>\n",
              "      <th>action2</th>\n",
              "      <th>action3</th>\n",
              "      <th>romantic1</th>\n",
              "      <th>romantic2</th>\n",
              "      <th>romantic3</th>\n",
              "    </tr>\n",
              "  </thead>\n",
              "  <tbody>\n",
              "    <tr>\n",
              "      <th>user 1</th>\n",
              "      <td>0.3125</td>\n",
              "      <td>0.555556</td>\n",
              "      <td>0.375</td>\n",
              "      <td>0</td>\n",
              "      <td>-0.333333</td>\n",
              "      <td>-0.666667</td>\n",
              "    </tr>\n",
              "    <tr>\n",
              "      <th>user 2</th>\n",
              "      <td>0.5625</td>\n",
              "      <td>-0.111111</td>\n",
              "      <td>0.375</td>\n",
              "      <td>-0.625</td>\n",
              "      <td>-0.333333</td>\n",
              "      <td>0</td>\n",
              "    </tr>\n",
              "    <tr>\n",
              "      <th>user 3</th>\n",
              "      <td>-0.4375</td>\n",
              "      <td>0</td>\n",
              "      <td>0</td>\n",
              "      <td>0.375</td>\n",
              "      <td>0.666667</td>\n",
              "      <td>0.333333</td>\n",
              "    </tr>\n",
              "    <tr>\n",
              "      <th>user 4</th>\n",
              "      <td>0</td>\n",
              "      <td>-0.444444</td>\n",
              "      <td>-0.625</td>\n",
              "      <td>0.375</td>\n",
              "      <td>0</td>\n",
              "      <td>0</td>\n",
              "    </tr>\n",
              "    <tr>\n",
              "      <th>user 5</th>\n",
              "      <td>-0.4375</td>\n",
              "      <td>0</td>\n",
              "      <td>-0.125</td>\n",
              "      <td>-0.125</td>\n",
              "      <td>0</td>\n",
              "      <td>0.333333</td>\n",
              "    </tr>\n",
              "  </tbody>\n",
              "</table>\n",
              "</div>"
            ],
            "text/plain": [
              "       action1   action2 action3 romantic1 romantic2 romantic3\n",
              "user 1  0.3125  0.555556   0.375         0 -0.333333 -0.666667\n",
              "user 2  0.5625 -0.111111   0.375    -0.625 -0.333333         0\n",
              "user 3 -0.4375         0       0     0.375  0.666667  0.333333\n",
              "user 4       0 -0.444444  -0.625     0.375         0         0\n",
              "user 5 -0.4375         0  -0.125    -0.125         0  0.333333"
            ]
          },
          "metadata": {
            "tags": []
          },
          "execution_count": 6
        }
      ]
    },
    {
      "cell_type": "code",
      "metadata": {
        "id": "99KDu3_-LrrA",
        "colab_type": "code",
        "colab": {
          "base_uri": "https://localhost:8080/",
          "height": 225
        },
        "outputId": "7e8aa4c6-e3f4-4752-b630-f4b7df502893"
      },
      "source": [
        "#user based similatiry \n",
        "# cosine_similarity(rating)\n",
        "\n",
        "## Item based similarity\n",
        "item_similarity = cosine_similarity(rating_std.T)\n",
        "item_similarity"
      ],
      "execution_count": 7,
      "outputs": [
        {
          "output_type": "execute_result",
          "data": {
            "text/plain": [
              "array([[ 1.        ,  0.17285433,  0.51719541, -0.62274549, -0.80032673,\n",
              "        -0.68599434],\n",
              "       [ 0.17285433,  1.        ,  0.74438737, -0.16283474, -0.25197632,\n",
              "        -0.62994079],\n",
              "       [ 0.51719541,  0.74438737,  1.        , -0.65909091, -0.36927447,\n",
              "        -0.43082022],\n",
              "       [-0.62274549, -0.16283474, -0.65909091,  1.        ,  0.6770032 ,\n",
              "         0.12309149],\n",
              "       [-0.80032673, -0.25197632, -0.36927447,  0.6770032 ,  1.        ,\n",
              "         0.66666667],\n",
              "       [-0.68599434, -0.62994079, -0.43082022,  0.12309149,  0.66666667,\n",
              "         1.        ]])"
            ]
          },
          "metadata": {
            "tags": []
          },
          "execution_count": 7
        }
      ]
    },
    {
      "cell_type": "code",
      "metadata": {
        "id": "bvSkBPi2NJzQ",
        "colab_type": "code",
        "colab": {
          "base_uri": "https://localhost:8080/",
          "height": 233
        },
        "outputId": "a4baf285-5c9d-4946-f823-6de1dc835111"
      },
      "source": [
        "#converting item into dataFrame\n",
        "item_similarity_df = pd.DataFrame(item_similarity,index=ratings.columns,columns=ratings.columns)\n",
        "item_similarity_df"
      ],
      "execution_count": 19,
      "outputs": [
        {
          "output_type": "execute_result",
          "data": {
            "text/html": [
              "<div>\n",
              "<style scoped>\n",
              "    .dataframe tbody tr th:only-of-type {\n",
              "        vertical-align: middle;\n",
              "    }\n",
              "\n",
              "    .dataframe tbody tr th {\n",
              "        vertical-align: top;\n",
              "    }\n",
              "\n",
              "    .dataframe thead th {\n",
              "        text-align: right;\n",
              "    }\n",
              "</style>\n",
              "<table border=\"1\" class=\"dataframe\">\n",
              "  <thead>\n",
              "    <tr style=\"text-align: right;\">\n",
              "      <th></th>\n",
              "      <th>action1</th>\n",
              "      <th>action2</th>\n",
              "      <th>action3</th>\n",
              "      <th>romantic1</th>\n",
              "      <th>romantic2</th>\n",
              "      <th>romantic3</th>\n",
              "    </tr>\n",
              "  </thead>\n",
              "  <tbody>\n",
              "    <tr>\n",
              "      <th>action1</th>\n",
              "      <td>1.000000</td>\n",
              "      <td>0.172854</td>\n",
              "      <td>0.517195</td>\n",
              "      <td>-0.622745</td>\n",
              "      <td>-0.800327</td>\n",
              "      <td>-0.685994</td>\n",
              "    </tr>\n",
              "    <tr>\n",
              "      <th>action2</th>\n",
              "      <td>0.172854</td>\n",
              "      <td>1.000000</td>\n",
              "      <td>0.744387</td>\n",
              "      <td>-0.162835</td>\n",
              "      <td>-0.251976</td>\n",
              "      <td>-0.629941</td>\n",
              "    </tr>\n",
              "    <tr>\n",
              "      <th>action3</th>\n",
              "      <td>0.517195</td>\n",
              "      <td>0.744387</td>\n",
              "      <td>1.000000</td>\n",
              "      <td>-0.659091</td>\n",
              "      <td>-0.369274</td>\n",
              "      <td>-0.430820</td>\n",
              "    </tr>\n",
              "    <tr>\n",
              "      <th>romantic1</th>\n",
              "      <td>-0.622745</td>\n",
              "      <td>-0.162835</td>\n",
              "      <td>-0.659091</td>\n",
              "      <td>1.000000</td>\n",
              "      <td>0.677003</td>\n",
              "      <td>0.123091</td>\n",
              "    </tr>\n",
              "    <tr>\n",
              "      <th>romantic2</th>\n",
              "      <td>-0.800327</td>\n",
              "      <td>-0.251976</td>\n",
              "      <td>-0.369274</td>\n",
              "      <td>0.677003</td>\n",
              "      <td>1.000000</td>\n",
              "      <td>0.666667</td>\n",
              "    </tr>\n",
              "    <tr>\n",
              "      <th>romantic3</th>\n",
              "      <td>-0.685994</td>\n",
              "      <td>-0.629941</td>\n",
              "      <td>-0.430820</td>\n",
              "      <td>0.123091</td>\n",
              "      <td>0.666667</td>\n",
              "      <td>1.000000</td>\n",
              "    </tr>\n",
              "  </tbody>\n",
              "</table>\n",
              "</div>"
            ],
            "text/plain": [
              "            action1   action2   action3  romantic1  romantic2  romantic3\n",
              "action1    1.000000  0.172854  0.517195  -0.622745  -0.800327  -0.685994\n",
              "action2    0.172854  1.000000  0.744387  -0.162835  -0.251976  -0.629941\n",
              "action3    0.517195  0.744387  1.000000  -0.659091  -0.369274  -0.430820\n",
              "romantic1 -0.622745 -0.162835 -0.659091   1.000000   0.677003   0.123091\n",
              "romantic2 -0.800327 -0.251976 -0.369274   0.677003   1.000000   0.666667\n",
              "romantic3 -0.685994 -0.629941 -0.430820   0.123091   0.666667   1.000000"
            ]
          },
          "metadata": {
            "tags": []
          },
          "execution_count": 19
        }
      ]
    },
    {
      "cell_type": "code",
      "metadata": {
        "id": "4o-yJwc-aXRh",
        "colab_type": "code",
        "colab": {
          "base_uri": "https://localhost:8080/",
          "height": 295
        },
        "outputId": "1983d455-574f-4962-f546-7ff8272d5a8c"
      },
      "source": [
        "def getSimilarMovies(movieName,rating):\n",
        "  print()\n",
        "  print(item_similarity_df[movieName])\n",
        "  print()\n",
        "  # movie_score = item_similarity_df[movieName]*rating\n",
        "  # this code is to suggest romantic movie if the user doesn't like action movie\n",
        "  movie_score = item_similarity_df[movieName]*(rating-2.5)\n",
        "  movie_score = movie_score.sort_values(ascending=False)\n",
        "  return movie_score\n",
        "\n",
        "getSimilarMovies('action3',1)\n"
      ],
      "execution_count": 21,
      "outputs": [
        {
          "output_type": "stream",
          "text": [
            "\n",
            "action1      0.517195\n",
            "action2      0.744387\n",
            "action3      1.000000\n",
            "romantic1   -0.659091\n",
            "romantic2   -0.369274\n",
            "romantic3   -0.430820\n",
            "Name: action3, dtype: float64\n",
            "\n"
          ],
          "name": "stdout"
        },
        {
          "output_type": "execute_result",
          "data": {
            "text/plain": [
              "romantic1    0.988636\n",
              "romantic3    0.646230\n",
              "romantic2    0.553912\n",
              "action1     -0.775793\n",
              "action2     -1.116581\n",
              "action3     -1.500000\n",
              "Name: action3, dtype: float64"
            ]
          },
          "metadata": {
            "tags": []
          },
          "execution_count": 21
        }
      ]
    },
    {
      "cell_type": "code",
      "metadata": {
        "id": "K9YZj_5o17hR",
        "colab_type": "code",
        "colab": {}
      },
      "source": [
        ""
      ],
      "execution_count": null,
      "outputs": []
    }
  ]
}